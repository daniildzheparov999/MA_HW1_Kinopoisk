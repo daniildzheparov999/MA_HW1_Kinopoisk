{
 "cells": [
  {
   "cell_type": "code",
   "execution_count": 10,
   "metadata": {},
   "outputs": [],
   "source": [
    "import requests\n",
    "import pandas as pd\n",
    "from bs4 import BeautifulSoup\n",
    "import lxml\n",
    "import scipy.stats as st\n",
    "from bstrap import bootstrap\n",
    "import numpy as np"
   ]
  },
  {
   "cell_type": "code",
   "execution_count": 2,
   "metadata": {},
   "outputs": [],
   "source": [
    "url1 = 'https://www.kinopoisk.ru/lists/movies/top250/?page=1'\n",
    "url2 = 'https://www.kinopoisk.ru/lists/movies/top250/?page=2'\n",
    "url3 = 'https://www.kinopoisk.ru/lists/movies/top250/?page=3'\n",
    "url4 = 'https://www.kinopoisk.ru/lists/movies/top250/?page=4'\n",
    "url5 = 'https://www.kinopoisk.ru/lists/movies/top250/?page=5'"
   ]
  },
  {
   "cell_type": "markdown",
   "metadata": {},
   "source": [
    "Below we need to start cells with some time interval to avoid blocking from kinopoisk\n",
    "Maybe it can be possible to add all headers and cookies as we have requests from browser to automate it in one function. However, it was not successful in my realization."
   ]
  },
  {
   "cell_type": "code",
   "execution_count": 3,
   "metadata": {},
   "outputs": [],
   "source": [
    "resp1 = requests.get(url1)"
   ]
  },
  {
   "cell_type": "code",
   "execution_count": 8,
   "metadata": {},
   "outputs": [],
   "source": [
    "resp2 = requests.get(url2)"
   ]
  },
  {
   "cell_type": "code",
   "execution_count": 11,
   "metadata": {},
   "outputs": [],
   "source": [
    "resp3 = requests.get(url3)"
   ]
  },
  {
   "cell_type": "code",
   "execution_count": 12,
   "metadata": {},
   "outputs": [],
   "source": [
    "resp4 = requests.get(url4)"
   ]
  },
  {
   "cell_type": "code",
   "execution_count": 15,
   "metadata": {},
   "outputs": [],
   "source": [
    "resp5 = requests.get(url5)"
   ]
  },
  {
   "cell_type": "code",
   "execution_count": 6,
   "metadata": {},
   "outputs": [],
   "source": [
    "def data_parser(response):\n",
    " soup = BeautifulSoup(response.text, 'lxml')\n",
    " films=soup.findAll('div',class_='styles_root__ti07r')\n",
    " data =[]\n",
    "\n",
    " for film in films:\n",
    "  rate=film.find('div', class_='styles_root__j_C_S').find('span', class_='styles_position__TDe4E').text\n",
    "  name=film.find('a',class_='base-movie-main-info_link__YwtP1').find('span', class_='desktop-list-main-info_secondaryText__M_aus').text#.find('span', class_='desktop-list-main-info_secondaryText__M_aus')\n",
    "  name_rus=film.find('div',class_='styles_content__nT2IG').find('span', class_='styles_mainTitle__IFQyZ styles_activeMovieTittle__kJdJj').text\n",
    "  genre=film.find('div',class_='styles_content__nT2IG').findAll('span', class_='desktop-list-main-info_truncatedText__IMQRP')[0].text\n",
    "  rating_new=film.find('div',class_='styles_rating__ni2L0 styles_root___s7Tg styles_rootMd__ZvdRj styles_rootPositive__PIwO2').text\n",
    "  rating_old=film.find('div',class_='styles_user__2wZvH').find('div',class_='styles_rating__LU3_x').find('span',class_='styles_kinopoiskValuePositive__vOb2E styles_kinopoiskValue__9qXjg').text\n",
    "  views=film.find('div',class_='styles_user__2wZvH').find('div',class_='styles_rating__LU3_x').find('span',class_='styles_kinopoiskCount__2_VPQ').text\n",
    "\n",
    "  data.append([rate,name,name_rus,genre,rating_new,rating_old,views])\n",
    "  header =['rate', 'name','name_rus','genre','rating_new','rating_old','views']\n",
    "  df=pd.DataFrame(data,columns=header)\n",
    "\n",
    " return df"
   ]
  },
  {
   "cell_type": "code",
   "execution_count": 16,
   "metadata": {},
   "outputs": [],
   "source": [
    "df1 = data_parser(resp1)\n",
    "df2 = data_parser(resp2)\n",
    "df3 = data_parser(resp3)\n",
    "df4 = data_parser(resp4)\n",
    "df5 = data_parser(resp5)"
   ]
  },
  {
   "cell_type": "code",
   "execution_count": 17,
   "metadata": {},
   "outputs": [],
   "source": [
    "df = pd.concat([df1,df2,df3,df4,df5])\n",
    "df.to_excel('parsed_rating_kinopoisk.xlsx')"
   ]
  },
  {
   "cell_type": "markdown",
   "metadata": {},
   "source": [
    "Let's check the following hypothesis:\n",
    "\n",
    "H0 - there is no statistical difference between rating_new and rating_old\n",
    "\n",
    "Ha - the difference between rating_new and rating_old exists"
   ]
  },
  {
   "cell_type": "code",
   "execution_count": 29,
   "metadata": {},
   "outputs": [
    {
     "name": "stdout",
     "output_type": "stream",
     "text": [
      "<class 'pandas.core.frame.DataFrame'>\n",
      "Int64Index: 250 entries, 0 to 49\n",
      "Data columns (total 7 columns):\n",
      " #   Column      Non-Null Count  Dtype  \n",
      "---  ------      --------------  -----  \n",
      " 0   rate        250 non-null    object \n",
      " 1   name        250 non-null    object \n",
      " 2   name_rus    250 non-null    object \n",
      " 3   genre       250 non-null    object \n",
      " 4   rating_new  250 non-null    float64\n",
      " 5   rating_old  250 non-null    float64\n",
      " 6   views       250 non-null    object \n",
      "dtypes: float64(2), object(5)\n",
      "memory usage: 15.6+ KB\n"
     ]
    }
   ],
   "source": [
    "df.info()"
   ]
  },
  {
   "cell_type": "code",
   "execution_count": 35,
   "metadata": {},
   "outputs": [],
   "source": [
    "df.rating_old = df.rating_old.astype('float')\n",
    "df.rating_new = df.rating_new.astype('float')\n"
   ]
  },
  {
   "cell_type": "code",
   "execution_count": 36,
   "metadata": {},
   "outputs": [
    {
     "data": {
      "text/html": [
       "<div>\n",
       "<style scoped>\n",
       "    .dataframe tbody tr th:only-of-type {\n",
       "        vertical-align: middle;\n",
       "    }\n",
       "\n",
       "    .dataframe tbody tr th {\n",
       "        vertical-align: top;\n",
       "    }\n",
       "\n",
       "    .dataframe thead th {\n",
       "        text-align: right;\n",
       "    }\n",
       "</style>\n",
       "<table border=\"1\" class=\"dataframe\">\n",
       "  <thead>\n",
       "    <tr style=\"text-align: right;\">\n",
       "      <th></th>\n",
       "      <th>rating_new</th>\n",
       "      <th>rating_old</th>\n",
       "    </tr>\n",
       "  </thead>\n",
       "  <tbody>\n",
       "    <tr>\n",
       "      <th>count</th>\n",
       "      <td>250.000000</td>\n",
       "      <td>250.000000</td>\n",
       "    </tr>\n",
       "    <tr>\n",
       "      <th>mean</th>\n",
       "      <td>8.211600</td>\n",
       "      <td>8.317200</td>\n",
       "    </tr>\n",
       "    <tr>\n",
       "      <th>std</th>\n",
       "      <td>0.255198</td>\n",
       "      <td>0.207452</td>\n",
       "    </tr>\n",
       "    <tr>\n",
       "      <th>min</th>\n",
       "      <td>7.700000</td>\n",
       "      <td>8.100000</td>\n",
       "    </tr>\n",
       "    <tr>\n",
       "      <th>25%</th>\n",
       "      <td>8.000000</td>\n",
       "      <td>8.200000</td>\n",
       "    </tr>\n",
       "    <tr>\n",
       "      <th>50%</th>\n",
       "      <td>8.200000</td>\n",
       "      <td>8.300000</td>\n",
       "    </tr>\n",
       "    <tr>\n",
       "      <th>75%</th>\n",
       "      <td>8.400000</td>\n",
       "      <td>8.400000</td>\n",
       "    </tr>\n",
       "    <tr>\n",
       "      <th>max</th>\n",
       "      <td>9.100000</td>\n",
       "      <td>9.200000</td>\n",
       "    </tr>\n",
       "  </tbody>\n",
       "</table>\n",
       "</div>"
      ],
      "text/plain": [
       "       rating_new  rating_old\n",
       "count  250.000000  250.000000\n",
       "mean     8.211600    8.317200\n",
       "std      0.255198    0.207452\n",
       "min      7.700000    8.100000\n",
       "25%      8.000000    8.200000\n",
       "50%      8.200000    8.300000\n",
       "75%      8.400000    8.400000\n",
       "max      9.100000    9.200000"
      ]
     },
     "execution_count": 36,
     "metadata": {},
     "output_type": "execute_result"
    }
   ],
   "source": [
    "df.describe()"
   ]
  },
  {
   "cell_type": "code",
   "execution_count": 39,
   "metadata": {},
   "outputs": [
    {
     "data": {
      "text/plain": [
       "0                 США • драма  Режиссёр: Фрэнк Дарабонт\n",
       "1                США • драма  Режиссёр: Стивен Спилберг\n",
       "2                 США • драма  Режиссёр: Фрэнк Дарабонт\n",
       "3                 США • драма  Режиссёр: Роберт Земекис\n",
       "4     Новая Зеландия • фэнтези  Режиссёр: Питер Джексон\n",
       "                            ...                        \n",
       "45                 США • драма  Режиссёр: Пенни Маршалл\n",
       "46               США • драма  Режиссёр: Мартин Скорсезе\n",
       "47              СССР • вестерн  Режиссёр: Алла Сурикова\n",
       "48                США • мультфильм  Режиссёр: Ли Анкрич\n",
       "49            США • боевик  Режиссёр: Квентин Тарантино\n",
       "Name: genre, Length: 250, dtype: object"
      ]
     },
     "execution_count": 39,
     "metadata": {},
     "output_type": "execute_result"
    }
   ],
   "source": [
    "df.genre"
   ]
  },
  {
   "cell_type": "code",
   "execution_count": 50,
   "metadata": {},
   "outputs": [],
   "source": [
    "df[['country', 'other']] = df.genre.str.split('•', expand=True)\n",
    "df[['genre_name', 'director']] = df.other.str.split('Режиссёр: ', expand=True)"
   ]
  },
  {
   "cell_type": "code",
   "execution_count": 57,
   "metadata": {},
   "outputs": [
    {
     "data": {
      "text/plain": [
       "Index(['rate', 'name', 'name_rus', 'genre', 'rating_new', 'rating_old',\n",
       "       'views', 'country', 'other', 'genre_name', 'director'],\n",
       "      dtype='object')"
      ]
     },
     "execution_count": 57,
     "metadata": {},
     "output_type": "execute_result"
    }
   ],
   "source": [
    "df.columns"
   ]
  },
  {
   "cell_type": "code",
   "execution_count": 58,
   "metadata": {},
   "outputs": [
    {
     "data": {
      "text/html": [
       "<div>\n",
       "<style scoped>\n",
       "    .dataframe tbody tr th:only-of-type {\n",
       "        vertical-align: middle;\n",
       "    }\n",
       "\n",
       "    .dataframe tbody tr th {\n",
       "        vertical-align: top;\n",
       "    }\n",
       "\n",
       "    .dataframe thead th {\n",
       "        text-align: right;\n",
       "    }\n",
       "</style>\n",
       "<table border=\"1\" class=\"dataframe\">\n",
       "  <thead>\n",
       "    <tr style=\"text-align: right;\">\n",
       "      <th></th>\n",
       "      <th>rate</th>\n",
       "      <th>name</th>\n",
       "      <th>name_rus</th>\n",
       "      <th>genre_name</th>\n",
       "      <th>director</th>\n",
       "      <th>country</th>\n",
       "      <th>rating_old</th>\n",
       "      <th>rating_new</th>\n",
       "      <th>views</th>\n",
       "    </tr>\n",
       "  </thead>\n",
       "  <tbody>\n",
       "    <tr>\n",
       "      <th>0</th>\n",
       "      <td>1</td>\n",
       "      <td>The Green Mile, 1999, 189 мин.</td>\n",
       "      <td>Зеленая миля</td>\n",
       "      <td>драма</td>\n",
       "      <td>Фрэнк Дарабонт</td>\n",
       "      <td>США</td>\n",
       "      <td>9.2</td>\n",
       "      <td>9.1</td>\n",
       "      <td>121 625</td>\n",
       "    </tr>\n",
       "    <tr>\n",
       "      <th>1</th>\n",
       "      <td>2</td>\n",
       "      <td>Schindler's List, 1993, 195 мин.</td>\n",
       "      <td>Список Шиндлера</td>\n",
       "      <td>драма</td>\n",
       "      <td>Стивен Спилберг</td>\n",
       "      <td>США</td>\n",
       "      <td>9.1</td>\n",
       "      <td>8.8</td>\n",
       "      <td>76 405</td>\n",
       "    </tr>\n",
       "    <tr>\n",
       "      <th>2</th>\n",
       "      <td>3</td>\n",
       "      <td>The Shawshank Redemption, 1994, 142 мин.</td>\n",
       "      <td>Побег из Шоушенка</td>\n",
       "      <td>драма</td>\n",
       "      <td>Фрэнк Дарабонт</td>\n",
       "      <td>США</td>\n",
       "      <td>9.0</td>\n",
       "      <td>9.1</td>\n",
       "      <td>79 145</td>\n",
       "    </tr>\n",
       "    <tr>\n",
       "      <th>3</th>\n",
       "      <td>4</td>\n",
       "      <td>Forrest Gump, 1994, 142 мин.</td>\n",
       "      <td>Форрест Гамп</td>\n",
       "      <td>драма</td>\n",
       "      <td>Роберт Земекис</td>\n",
       "      <td>США</td>\n",
       "      <td>8.9</td>\n",
       "      <td>8.9</td>\n",
       "      <td>105 284</td>\n",
       "    </tr>\n",
       "    <tr>\n",
       "      <th>4</th>\n",
       "      <td>5</td>\n",
       "      <td>The Lord of the Rings: The Return of the King,...</td>\n",
       "      <td>Властелин колец: Возвращение короля</td>\n",
       "      <td>фэнтези</td>\n",
       "      <td>Питер Джексон</td>\n",
       "      <td>Новая Зеландия</td>\n",
       "      <td>8.9</td>\n",
       "      <td>8.7</td>\n",
       "      <td>50 929</td>\n",
       "    </tr>\n",
       "    <tr>\n",
       "      <th>...</th>\n",
       "      <td>...</td>\n",
       "      <td>...</td>\n",
       "      <td>...</td>\n",
       "      <td>...</td>\n",
       "      <td>...</td>\n",
       "      <td>...</td>\n",
       "      <td>...</td>\n",
       "      <td>...</td>\n",
       "      <td>...</td>\n",
       "    </tr>\n",
       "    <tr>\n",
       "      <th>45</th>\n",
       "      <td>246</td>\n",
       "      <td>Awakenings, 1990, 121 мин.</td>\n",
       "      <td>Пробуждение</td>\n",
       "      <td>драма</td>\n",
       "      <td>Пенни Маршалл</td>\n",
       "      <td>США</td>\n",
       "      <td>8.1</td>\n",
       "      <td>8.4</td>\n",
       "      <td>12 727</td>\n",
       "    </tr>\n",
       "    <tr>\n",
       "      <th>46</th>\n",
       "      <td>247</td>\n",
       "      <td>Goodfellas, 1990, 140 мин.</td>\n",
       "      <td>Славные парни</td>\n",
       "      <td>драма</td>\n",
       "      <td>Мартин Скорсезе</td>\n",
       "      <td>США</td>\n",
       "      <td>8.1</td>\n",
       "      <td>8.1</td>\n",
       "      <td>27 746</td>\n",
       "    </tr>\n",
       "    <tr>\n",
       "      <th>47</th>\n",
       "      <td>248</td>\n",
       "      <td>1987, 98 мин.</td>\n",
       "      <td>Человек с бульвара Капуцинов</td>\n",
       "      <td>вестерн</td>\n",
       "      <td>Алла Сурикова</td>\n",
       "      <td>СССР</td>\n",
       "      <td>8.1</td>\n",
       "      <td>8.0</td>\n",
       "      <td>15 964</td>\n",
       "    </tr>\n",
       "    <tr>\n",
       "      <th>48</th>\n",
       "      <td>249</td>\n",
       "      <td>Toy Story 3, 2010, 103 мин.</td>\n",
       "      <td>История игрушек: Большой побег</td>\n",
       "      <td>мультфильм</td>\n",
       "      <td>Ли Анкрич</td>\n",
       "      <td>США</td>\n",
       "      <td>8.1</td>\n",
       "      <td>7.8</td>\n",
       "      <td>27 340</td>\n",
       "    </tr>\n",
       "    <tr>\n",
       "      <th>49</th>\n",
       "      <td>250</td>\n",
       "      <td>Kill Bill: Vol. 1, 2003, 111 мин.</td>\n",
       "      <td>Убить Билла</td>\n",
       "      <td>боевик</td>\n",
       "      <td>Квентин Тарантино</td>\n",
       "      <td>США</td>\n",
       "      <td>8.1</td>\n",
       "      <td>7.7</td>\n",
       "      <td>42 572</td>\n",
       "    </tr>\n",
       "  </tbody>\n",
       "</table>\n",
       "<p>250 rows × 9 columns</p>\n",
       "</div>"
      ],
      "text/plain": [
       "   rate                                               name  \\\n",
       "0     1                     The Green Mile, 1999, 189 мин.   \n",
       "1     2                   Schindler's List, 1993, 195 мин.   \n",
       "2     3           The Shawshank Redemption, 1994, 142 мин.   \n",
       "3     4                       Forrest Gump, 1994, 142 мин.   \n",
       "4     5  The Lord of the Rings: The Return of the King,...   \n",
       "..  ...                                                ...   \n",
       "45  246                         Awakenings, 1990, 121 мин.   \n",
       "46  247                         Goodfellas, 1990, 140 мин.   \n",
       "47  248                                      1987, 98 мин.   \n",
       "48  249                        Toy Story 3, 2010, 103 мин.   \n",
       "49  250                  Kill Bill: Vol. 1, 2003, 111 мин.   \n",
       "\n",
       "                               name_rus     genre_name           director  \\\n",
       "0                          Зеленая миля        драма       Фрэнк Дарабонт   \n",
       "1                       Список Шиндлера        драма      Стивен Спилберг   \n",
       "2                     Побег из Шоушенка        драма       Фрэнк Дарабонт   \n",
       "3                          Форрест Гамп        драма       Роберт Земекис   \n",
       "4   Властелин колец: Возвращение короля      фэнтези        Питер Джексон   \n",
       "..                                  ...            ...                ...   \n",
       "45                          Пробуждение        драма        Пенни Маршалл   \n",
       "46                        Славные парни        драма      Мартин Скорсезе   \n",
       "47         Человек с бульвара Капуцинов      вестерн        Алла Сурикова   \n",
       "48       История игрушек: Большой побег   мультфильм            Ли Анкрич   \n",
       "49                          Убить Билла       боевик    Квентин Тарантино   \n",
       "\n",
       "            country  rating_old  rating_new    views  \n",
       "0              США          9.2         9.1  121 625  \n",
       "1              США          9.1         8.8   76 405  \n",
       "2              США          9.0         9.1   79 145  \n",
       "3              США          8.9         8.9  105 284  \n",
       "4   Новая Зеландия          8.9         8.7   50 929  \n",
       "..              ...         ...         ...      ...  \n",
       "45             США          8.1         8.4   12 727  \n",
       "46             США          8.1         8.1   27 746  \n",
       "47            СССР          8.1         8.0   15 964  \n",
       "48             США          8.1         7.8   27 340  \n",
       "49             США          8.1         7.7   42 572  \n",
       "\n",
       "[250 rows x 9 columns]"
      ]
     },
     "execution_count": 58,
     "metadata": {},
     "output_type": "execute_result"
    }
   ],
   "source": [
    "df = df[['rate', 'name', 'name_rus', 'genre_name', 'director', 'country', 'rating_old', 'rating_new', 'views']]\n",
    "df"
   ]
  },
  {
   "cell_type": "code",
   "execution_count": 60,
   "metadata": {},
   "outputs": [
    {
     "data": {
      "text/html": [
       "<div>\n",
       "<style scoped>\n",
       "    .dataframe tbody tr th:only-of-type {\n",
       "        vertical-align: middle;\n",
       "    }\n",
       "\n",
       "    .dataframe tbody tr th {\n",
       "        vertical-align: top;\n",
       "    }\n",
       "\n",
       "    .dataframe thead th {\n",
       "        text-align: right;\n",
       "    }\n",
       "</style>\n",
       "<table border=\"1\" class=\"dataframe\">\n",
       "  <thead>\n",
       "    <tr style=\"text-align: right;\">\n",
       "      <th></th>\n",
       "      <th>rating_old</th>\n",
       "      <th>rating_new</th>\n",
       "    </tr>\n",
       "  </thead>\n",
       "  <tbody>\n",
       "    <tr>\n",
       "      <th>count</th>\n",
       "      <td>250.000000</td>\n",
       "      <td>250.000000</td>\n",
       "    </tr>\n",
       "    <tr>\n",
       "      <th>mean</th>\n",
       "      <td>8.317200</td>\n",
       "      <td>8.211600</td>\n",
       "    </tr>\n",
       "    <tr>\n",
       "      <th>std</th>\n",
       "      <td>0.207452</td>\n",
       "      <td>0.255198</td>\n",
       "    </tr>\n",
       "    <tr>\n",
       "      <th>min</th>\n",
       "      <td>8.100000</td>\n",
       "      <td>7.700000</td>\n",
       "    </tr>\n",
       "    <tr>\n",
       "      <th>25%</th>\n",
       "      <td>8.200000</td>\n",
       "      <td>8.000000</td>\n",
       "    </tr>\n",
       "    <tr>\n",
       "      <th>50%</th>\n",
       "      <td>8.300000</td>\n",
       "      <td>8.200000</td>\n",
       "    </tr>\n",
       "    <tr>\n",
       "      <th>75%</th>\n",
       "      <td>8.400000</td>\n",
       "      <td>8.400000</td>\n",
       "    </tr>\n",
       "    <tr>\n",
       "      <th>max</th>\n",
       "      <td>9.200000</td>\n",
       "      <td>9.100000</td>\n",
       "    </tr>\n",
       "  </tbody>\n",
       "</table>\n",
       "</div>"
      ],
      "text/plain": [
       "       rating_old  rating_new\n",
       "count  250.000000  250.000000\n",
       "mean     8.317200    8.211600\n",
       "std      0.207452    0.255198\n",
       "min      8.100000    7.700000\n",
       "25%      8.200000    8.000000\n",
       "50%      8.300000    8.200000\n",
       "75%      8.400000    8.400000\n",
       "max      9.200000    9.100000"
      ]
     },
     "execution_count": 60,
     "metadata": {},
     "output_type": "execute_result"
    }
   ],
   "source": [
    "df.describe()"
   ]
  },
  {
   "cell_type": "code",
   "execution_count": 61,
   "metadata": {},
   "outputs": [
    {
     "data": {
      "text/plain": [
       "MannwhitneyuResult(statistic=40070.5, pvalue=3.267566667722795e-08)"
      ]
     },
     "execution_count": 61,
     "metadata": {},
     "output_type": "execute_result"
    }
   ],
   "source": [
    "st.mannwhitneyu(df.rating_old, df.rating_new, alternative='two-sided')"
   ]
  },
  {
   "cell_type": "markdown",
   "metadata": {},
   "source": [
    "We can see pvalue = 3.27, which is higher than 0.05, that is why we can't reject H0 hypothesis. So there is no statistical difference between rating_new and rating_old"
   ]
  },
  {
   "cell_type": "markdown",
   "metadata": {},
   "source": [
    "Let's filter films by genre and research \"драма\" films"
   ]
  },
  {
   "cell_type": "code",
   "execution_count": 62,
   "metadata": {},
   "outputs": [
    {
     "data": {
      "text/plain": [
       "MannwhitneyuResult(statistic=3422.0, pvalue=0.09426633971206119)"
      ]
     },
     "execution_count": 62,
     "metadata": {},
     "output_type": "execute_result"
    }
   ],
   "source": [
    "drama_films = df[df['genre_name'].str.contains('драма')]\n",
    "st.mannwhitneyu(drama_films['rating_old'], drama_films['rating_new'], alternative='two-sided')"
   ]
  },
  {
   "cell_type": "markdown",
   "metadata": {},
   "source": [
    "As we can see from the result, it's similar to the previous experiment. pvalue is higher than 0.05, in such case old and new rating do not have statistical difference"
   ]
  },
  {
   "cell_type": "markdown",
   "metadata": {},
   "source": [
    "We can also try to compare some statistical metrics from the table below, grouped by origin of the films"
   ]
  },
  {
   "cell_type": "code",
   "execution_count": 63,
   "metadata": {},
   "outputs": [
    {
     "data": {
      "text/html": [
       "<div>\n",
       "<style scoped>\n",
       "    .dataframe tbody tr th:only-of-type {\n",
       "        vertical-align: middle;\n",
       "    }\n",
       "\n",
       "    .dataframe tbody tr th {\n",
       "        vertical-align: top;\n",
       "    }\n",
       "\n",
       "    .dataframe thead tr th {\n",
       "        text-align: left;\n",
       "    }\n",
       "\n",
       "    .dataframe thead tr:last-of-type th {\n",
       "        text-align: right;\n",
       "    }\n",
       "</style>\n",
       "<table border=\"1\" class=\"dataframe\">\n",
       "  <thead>\n",
       "    <tr>\n",
       "      <th></th>\n",
       "      <th colspan=\"4\" halign=\"left\">rating_old</th>\n",
       "      <th colspan=\"4\" halign=\"left\">rating_new</th>\n",
       "    </tr>\n",
       "    <tr>\n",
       "      <th></th>\n",
       "      <th>mean</th>\n",
       "      <th>amax</th>\n",
       "      <th>amin</th>\n",
       "      <th>sum</th>\n",
       "      <th>mean</th>\n",
       "      <th>amax</th>\n",
       "      <th>amin</th>\n",
       "      <th>sum</th>\n",
       "    </tr>\n",
       "    <tr>\n",
       "      <th>country</th>\n",
       "      <th></th>\n",
       "      <th></th>\n",
       "      <th></th>\n",
       "      <th></th>\n",
       "      <th></th>\n",
       "      <th></th>\n",
       "      <th></th>\n",
       "      <th></th>\n",
       "    </tr>\n",
       "  </thead>\n",
       "  <tbody>\n",
       "    <tr>\n",
       "      <th>Австралия</th>\n",
       "      <td>8.350000</td>\n",
       "      <td>8.5</td>\n",
       "      <td>8.2</td>\n",
       "      <td>16.7</td>\n",
       "      <td>7.950000</td>\n",
       "      <td>8.1</td>\n",
       "      <td>7.8</td>\n",
       "      <td>15.9</td>\n",
       "    </tr>\n",
       "    <tr>\n",
       "      <th>Беларусь</th>\n",
       "      <td>8.300000</td>\n",
       "      <td>8.3</td>\n",
       "      <td>8.3</td>\n",
       "      <td>8.3</td>\n",
       "      <td>8.000000</td>\n",
       "      <td>8.0</td>\n",
       "      <td>8.0</td>\n",
       "      <td>8.0</td>\n",
       "    </tr>\n",
       "    <tr>\n",
       "      <th>Великобритания</th>\n",
       "      <td>8.295000</td>\n",
       "      <td>8.6</td>\n",
       "      <td>8.1</td>\n",
       "      <td>165.9</td>\n",
       "      <td>8.140000</td>\n",
       "      <td>8.6</td>\n",
       "      <td>7.8</td>\n",
       "      <td>162.8</td>\n",
       "    </tr>\n",
       "    <tr>\n",
       "      <th>Германия</th>\n",
       "      <td>8.325000</td>\n",
       "      <td>8.6</td>\n",
       "      <td>8.2</td>\n",
       "      <td>33.3</td>\n",
       "      <td>8.175000</td>\n",
       "      <td>8.6</td>\n",
       "      <td>8.0</td>\n",
       "      <td>32.7</td>\n",
       "    </tr>\n",
       "    <tr>\n",
       "      <th>Дания</th>\n",
       "      <td>8.200000</td>\n",
       "      <td>8.2</td>\n",
       "      <td>8.2</td>\n",
       "      <td>8.2</td>\n",
       "      <td>8.000000</td>\n",
       "      <td>8.0</td>\n",
       "      <td>8.0</td>\n",
       "      <td>8.0</td>\n",
       "    </tr>\n",
       "    <tr>\n",
       "      <th>Ирландия</th>\n",
       "      <td>8.300000</td>\n",
       "      <td>8.3</td>\n",
       "      <td>8.3</td>\n",
       "      <td>8.3</td>\n",
       "      <td>8.200000</td>\n",
       "      <td>8.2</td>\n",
       "      <td>8.2</td>\n",
       "      <td>8.2</td>\n",
       "    </tr>\n",
       "    <tr>\n",
       "      <th>Испания</th>\n",
       "      <td>8.500000</td>\n",
       "      <td>8.5</td>\n",
       "      <td>8.5</td>\n",
       "      <td>8.5</td>\n",
       "      <td>8.600000</td>\n",
       "      <td>8.6</td>\n",
       "      <td>8.6</td>\n",
       "      <td>8.6</td>\n",
       "    </tr>\n",
       "    <tr>\n",
       "      <th>Италия</th>\n",
       "      <td>8.400000</td>\n",
       "      <td>8.5</td>\n",
       "      <td>8.3</td>\n",
       "      <td>25.2</td>\n",
       "      <td>8.500000</td>\n",
       "      <td>8.6</td>\n",
       "      <td>8.4</td>\n",
       "      <td>25.5</td>\n",
       "    </tr>\n",
       "    <tr>\n",
       "      <th>Корея Южная</th>\n",
       "      <td>8.100000</td>\n",
       "      <td>8.1</td>\n",
       "      <td>8.1</td>\n",
       "      <td>8.1</td>\n",
       "      <td>8.200000</td>\n",
       "      <td>8.2</td>\n",
       "      <td>8.2</td>\n",
       "      <td>8.2</td>\n",
       "    </tr>\n",
       "    <tr>\n",
       "      <th>Новая Зеландия</th>\n",
       "      <td>8.550000</td>\n",
       "      <td>8.9</td>\n",
       "      <td>8.2</td>\n",
       "      <td>51.3</td>\n",
       "      <td>8.300000</td>\n",
       "      <td>8.7</td>\n",
       "      <td>7.8</td>\n",
       "      <td>49.8</td>\n",
       "    </tr>\n",
       "    <tr>\n",
       "      <th>Россия</th>\n",
       "      <td>8.300000</td>\n",
       "      <td>8.5</td>\n",
       "      <td>8.1</td>\n",
       "      <td>58.1</td>\n",
       "      <td>8.085714</td>\n",
       "      <td>8.3</td>\n",
       "      <td>7.9</td>\n",
       "      <td>56.6</td>\n",
       "    </tr>\n",
       "    <tr>\n",
       "      <th>СССР</th>\n",
       "      <td>8.337209</td>\n",
       "      <td>8.7</td>\n",
       "      <td>8.1</td>\n",
       "      <td>358.5</td>\n",
       "      <td>8.318605</td>\n",
       "      <td>8.8</td>\n",
       "      <td>8.0</td>\n",
       "      <td>357.7</td>\n",
       "    </tr>\n",
       "    <tr>\n",
       "      <th>США</th>\n",
       "      <td>8.304965</td>\n",
       "      <td>9.2</td>\n",
       "      <td>8.1</td>\n",
       "      <td>1171.0</td>\n",
       "      <td>8.187234</td>\n",
       "      <td>9.1</td>\n",
       "      <td>7.7</td>\n",
       "      <td>1154.4</td>\n",
       "    </tr>\n",
       "    <tr>\n",
       "      <th>Франция</th>\n",
       "      <td>8.337500</td>\n",
       "      <td>8.8</td>\n",
       "      <td>8.1</td>\n",
       "      <td>66.7</td>\n",
       "      <td>8.275000</td>\n",
       "      <td>8.8</td>\n",
       "      <td>8.0</td>\n",
       "      <td>66.2</td>\n",
       "    </tr>\n",
       "    <tr>\n",
       "      <th>Швеция</th>\n",
       "      <td>8.300000</td>\n",
       "      <td>8.3</td>\n",
       "      <td>8.3</td>\n",
       "      <td>8.3</td>\n",
       "      <td>8.100000</td>\n",
       "      <td>8.1</td>\n",
       "      <td>8.1</td>\n",
       "      <td>8.1</td>\n",
       "    </tr>\n",
       "    <tr>\n",
       "      <th>Япония</th>\n",
       "      <td>8.290000</td>\n",
       "      <td>8.7</td>\n",
       "      <td>8.1</td>\n",
       "      <td>82.9</td>\n",
       "      <td>8.220000</td>\n",
       "      <td>8.5</td>\n",
       "      <td>8.1</td>\n",
       "      <td>82.2</td>\n",
       "    </tr>\n",
       "  </tbody>\n",
       "</table>\n",
       "</div>"
      ],
      "text/plain": [
       "                rating_old                   rating_new                  \n",
       "                      mean amax amin     sum       mean amax amin     sum\n",
       "country                                                                  \n",
       "Австралия         8.350000  8.5  8.2    16.7   7.950000  8.1  7.8    15.9\n",
       "Беларусь          8.300000  8.3  8.3     8.3   8.000000  8.0  8.0     8.0\n",
       "Великобритания    8.295000  8.6  8.1   165.9   8.140000  8.6  7.8   162.8\n",
       "Германия          8.325000  8.6  8.2    33.3   8.175000  8.6  8.0    32.7\n",
       "Дания             8.200000  8.2  8.2     8.2   8.000000  8.0  8.0     8.0\n",
       "Ирландия          8.300000  8.3  8.3     8.3   8.200000  8.2  8.2     8.2\n",
       "Испания           8.500000  8.5  8.5     8.5   8.600000  8.6  8.6     8.6\n",
       "Италия            8.400000  8.5  8.3    25.2   8.500000  8.6  8.4    25.5\n",
       "Корея Южная       8.100000  8.1  8.1     8.1   8.200000  8.2  8.2     8.2\n",
       "Новая Зеландия    8.550000  8.9  8.2    51.3   8.300000  8.7  7.8    49.8\n",
       "Россия            8.300000  8.5  8.1    58.1   8.085714  8.3  7.9    56.6\n",
       "СССР              8.337209  8.7  8.1   358.5   8.318605  8.8  8.0   357.7\n",
       "США               8.304965  9.2  8.1  1171.0   8.187234  9.1  7.7  1154.4\n",
       "Франция           8.337500  8.8  8.1    66.7   8.275000  8.8  8.0    66.2\n",
       "Швеция            8.300000  8.3  8.3     8.3   8.100000  8.1  8.1     8.1\n",
       "Япония            8.290000  8.7  8.1    82.9   8.220000  8.5  8.1    82.2"
      ]
     },
     "execution_count": 63,
     "metadata": {},
     "output_type": "execute_result"
    }
   ],
   "source": [
    "df.groupby('country').agg({'rating_old': [np.mean, np.max , np.min, np.sum], \n",
    "                              'rating_new': [np.mean, np.max , np.min, np.sum]})"
   ]
  },
  {
   "cell_type": "markdown",
   "metadata": {},
   "source": [
    "Let's use Bootstrap for our hypothesis"
   ]
  },
  {
   "cell_type": "code",
   "execution_count": 69,
   "metadata": {},
   "outputs": [],
   "source": [
    "old, new, p = bootstrap(np.mean, df['rating_old'], df['rating_new'])"
   ]
  },
  {
   "cell_type": "code",
   "execution_count": 70,
   "metadata": {},
   "outputs": [
    {
     "data": {
      "text/plain": [
       "({'avg_metric': 8.317186208, 'metric_ci_lb': 8.296, 'metric_ci_ub': 8.3392},\n",
       " {'avg_metric': 8.211599848,\n",
       "  'metric_ci_lb': 8.1852,\n",
       "  'metric_ci_ub': 8.238399999999999},\n",
       " 0.0)"
      ]
     },
     "execution_count": 70,
     "metadata": {},
     "output_type": "execute_result"
    }
   ],
   "source": [
    "old, new, p"
   ]
  },
  {
   "cell_type": "code",
   "execution_count": 67,
   "metadata": {},
   "outputs": [],
   "source": [
    "old1, new1, p1 = bootstrap(np.mean, drama_films['rating_old'], drama_films['rating_new'])"
   ]
  },
  {
   "cell_type": "code",
   "execution_count": 68,
   "metadata": {},
   "outputs": [
    {
     "data": {
      "text/plain": [
       "({'avg_metric': 8.325948272727274,\n",
       "  'metric_ci_lb': 8.284415584415585,\n",
       "  'metric_ci_ub': 8.37012987012987},\n",
       " {'avg_metric': 8.268791558441558,\n",
       "  'metric_ci_lb': 8.220779220779221,\n",
       "  'metric_ci_ub': 8.31818181818182},\n",
       " 0.15122)"
      ]
     },
     "execution_count": 68,
     "metadata": {},
     "output_type": "execute_result"
    }
   ],
   "source": [
    "old1, new1, p1"
   ]
  },
  {
   "cell_type": "markdown",
   "metadata": {},
   "source": [
    "We can see that again there is no statistical difference between metrics"
   ]
  },
  {
   "cell_type": "code",
   "execution_count": 71,
   "metadata": {},
   "outputs": [],
   "source": [
    "df.to_excel('clean_rating_kinopoisk.xlsx')"
   ]
  }
 ],
 "metadata": {
  "kernelspec": {
   "display_name": "Python 3.10.4 64-bit (system)",
   "language": "python",
   "name": "python3"
  },
  "language_info": {
   "codemirror_mode": {
    "name": "ipython",
    "version": 3
   },
   "file_extension": ".py",
   "mimetype": "text/x-python",
   "name": "python",
   "nbconvert_exporter": "python",
   "pygments_lexer": "ipython3",
   "version": "3.10.4"
  },
  "orig_nbformat": 4,
  "vscode": {
   "interpreter": {
    "hash": "3e5df068846dd857fd8f6e2337ec975361106f93a8ad476be75c82b4dc19b61a"
   }
  }
 },
 "nbformat": 4,
 "nbformat_minor": 2
}
